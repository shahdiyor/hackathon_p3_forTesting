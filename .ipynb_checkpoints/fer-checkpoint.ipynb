{
 "cells": [
  {
   "cell_type": "markdown",
   "id": "5b654161",
   "metadata": {},
   "source": [
    "Importing Files"
   ]
  },
  {
   "cell_type": "code",
   "execution_count": 1,
   "id": "04871264",
   "metadata": {},
   "outputs": [],
   "source": [
    "import numpy as np\n",
    "import matplotlib.pyplot as plt\n",
    "import cv2\n",
    "import os"
   ]
  },
  {
   "cell_type": "code",
   "execution_count": 2,
   "id": "8f0c3e66",
   "metadata": {},
   "outputs": [
    {
     "data": {
      "image/png": "[encoded data removed]",
      "text/plain": [
       "<Figure size 432x288 with 1 Axes>"
      ]
     },
     "metadata": {
      "needs_background": "light"
     },
     "output_type": "display_data"
    }
   ],
   "source": [
    "DATADIR = \"C:/Users/laxmi/Documents/AI/Facial Emotion Recognition/data/train\"\n",
    "TESTDIR = \"C:/Users/laxmi/Documents/AI/Facial Emotion Recognition/data/test\"\n",
    "\n",
    "for category in os.listdir(DATADIR):\n",
    "    path = os.path.join(DATADIR, category)\n",
    "    for img in os.listdir(path):\n",
    "        img_array = cv2.imread(os.path.join(path, img), cv2.IMREAD_GRAYSCALE)\n",
    "        plt.imshow(img_array)\n",
    "        plt.show()\n",
    "        break\n",
    "    break"
   ]
  },
  {
   "cell_type": "code",
   "execution_count": 3,
   "id": "aabd703b",
   "metadata": {},
   "outputs": [
    {
     "name": "stdout",
     "output_type": "stream",
     "text": [
      "(48, 48)\n"
     ]
    }
   ],
   "source": [
    "print(img_array.shape)"
   ]
  },
  {
   "cell_type": "code",
   "execution_count": 4,
   "id": "12c62b46",
   "metadata": {},
   "outputs": [],
   "source": [
    "training_data = []\n",
    "\n",
    "def createTrainingData():\n",
    "    for category in os.listdir(DATADIR):\n",
    "        path = os.path.join(DATADIR, category)\n",
    "        category_num = os.listdir(DATADIR).index(category)\n",
    "        for img in os.listdir(path):\n",
    "            try:\n",
    "                img_array = cv2.imread(os.path.join(path, img), cv2.IMREAD_GRAYSCALE)\n",
    "                training_data.append([img_array, category_num])\n",
    "            except Exception as e:\n",
    "                pass\n",
    "\n",
    "createTrainingData()"
   ]
  },
  {
   "cell_type": "code",
   "execution_count": 5,
   "id": "da8b8029",
   "metadata": {},
   "outputs": [],
   "source": [
    "testing_data = []\n",
    "\n",
    "def createTestingData():\n",
    "    for category in os.listdir(TESTDIR):\n",
    "        path = os.path.join(DATADIR, category)\n",
    "        category_num = os.listdir(DATADIR).index(category)\n",
    "        for img in os.listdir(path):\n",
    "            try:\n",
    "                img_array = cv2.imread(os.path.join(path, img), cv2.IMREAD_GRAYSCALE)\n",
    "                testing_data.append([img_array, category_num])\n",
    "            except Exception as e:\n",
    "                pass\n",
    "\n",
    "createTestingData()"
   ]
  },
  {
   "cell_type": "code",
   "execution_count": 6,
   "id": "ba586899",
   "metadata": {},
   "outputs": [],
   "source": [
    "import random\n",
    "\n",
    "random.shuffle(training_data)\n",
    "random.shuffle(testing_data)"
   ]
  },
  {
   "cell_type": "code",
   "execution_count": 7,
   "id": "c2f6bee2",
   "metadata": {},
   "outputs": [],
   "source": [
    "x_train = []\n",
    "y_train = []\n",
    "x_test = []\n",
    "y_test = []\n",
    "\n",
    "for feature, label in training_data:\n",
    "    x_train.append(feature)\n",
    "    y_train.append(label)\n",
    "    \n",
    "for feature, label in testing_data:\n",
    "    x_test.append(feature)\n",
    "    y_test.append(label)\n",
    "    \n",
    "x_train = np.array(x_train).reshape(-1, 48, 48, 1)\n",
    "x_test = np.array(x_train).reshape(-1, 48, 48, 1)\n",
    "\n",
    "y_train = np.array(y_train)\n",
    "y_test = np.array(y_train)"
   ]
  },
  {
   "cell_type": "code",
   "execution_count": 8,
   "id": "8b3e9b7d",
   "metadata": {},
   "outputs": [],
   "source": [
    "import tensorflow as tf\n",
    "from tensorflow.keras.models import Sequential\n",
    "from tensorflow.keras.layers import Dense, Conv2D, Flatten, MaxPooling2D, BatchNormalization"
   ]
  },
  {
   "cell_type": "code",
   "execution_count": 9,
   "id": "80cabc42",
   "metadata": {},
   "outputs": [
    {
     "name": "stdout",
     "output_type": "stream",
     "text": [
      "Epoch 1/14\n",
      "898/898 [==============================] - 89s 98ms/step - loss: 1.5746 - accuracy: 0.3987\n",
      "Epoch 2/14\n",
      "898/898 [==============================] - 90s 100ms/step - loss: 1.2794 - accuracy: 0.5120\n",
      "Epoch 3/14\n",
      "898/898 [==============================] - 90s 100ms/step - loss: 1.1440 - accuracy: 0.5668\n",
      "Epoch 4/14\n",
      "898/898 [==============================] - 90s 100ms/step - loss: 1.0414 - accuracy: 0.6082\n",
      "Epoch 5/14\n",
      "898/898 [==============================] - 91s 101ms/step - loss: 0.9186 - accuracy: 0.6585\n",
      "Epoch 6/14\n",
      "898/898 [==============================] - 90s 101ms/step - loss: 0.7783 - accuracy: 0.7102\n",
      "Epoch 7/14\n",
      "898/898 [==============================] - 90s 100ms/step - loss: 0.6553 - accuracy: 0.7565\n",
      "Epoch 8/14\n",
      "898/898 [==============================] - 92s 103ms/step - loss: 0.5131 - accuracy: 0.8129\n",
      "Epoch 9/14\n",
      "898/898 [==============================] - 91s 101ms/step - loss: 0.4279 - accuracy: 0.8453\n",
      "Epoch 10/14\n",
      "898/898 [==============================] - 91s 101ms/step - loss: 0.3126 - accuracy: 0.8907s - loss: 0.311\n",
      "Epoch 11/14\n",
      "898/898 [==============================] - 91s 101ms/step - loss: 0.2733 - accuracy: 0.9028\n",
      "Epoch 12/14\n",
      "898/898 [==============================] - 92s 102ms/step - loss: 0.2294 - accuracy: 0.9196\n",
      "Epoch 13/14\n",
      "898/898 [==============================] - 91s 102ms/step - loss: 0.2386 - accuracy: 0.9158\n",
      "Epoch 14/14\n",
      "898/898 [==============================] - 92s 102ms/step - loss: 0.1678 - accuracy: 0.9423\n"
     ]
    },
    {
     "data": {
      "text/plain": [
       "<keras.callbacks.History at 0x2033aef7160>"
      ]
     },
     "execution_count": 9,
     "metadata": {},
     "output_type": "execute_result"
    }
   ],
   "source": [
    "model = Sequential()\n",
    "\n",
    "model.add(Conv2D(32,(3,3), padding='same', input_shape=(48, 48,1), activation='relu'))\n",
    "model.add(BatchNormalization())\n",
    "model.add(MaxPooling2D(pool_size=(2, 2)))\n",
    "\n",
    "model.add(Conv2D(64,(3,3), padding='same', activation='relu'))\n",
    "model.add(BatchNormalization())\n",
    "model.add(MaxPooling2D(pool_size=(2, 2)))\n",
    "\n",
    "model.add(Conv2D(128,(3,3), padding='same', activation='relu'))\n",
    "model.add(BatchNormalization())\n",
    "model.add(MaxPooling2D(pool_size=(2, 2)))\n",
    "\n",
    "model.add(Conv2D(256,(3,3), padding='same', activation='relu'))\n",
    "model.add(BatchNormalization())\n",
    "model.add(MaxPooling2D(pool_size=(2, 2)))\n",
    "\n",
    "model.add(Flatten())\n",
    "\n",
    "model.add(Dense(128, activation='relu'))\n",
    "model.add(BatchNormalization())\n",
    "\n",
    "model.add(Dense(256, activation='relu'))\n",
    "model.add(BatchNormalization())\n",
    "\n",
    "model.add(Dense(7, activation='sigmoid'))\n",
    "\n",
    "model.compile(optimizer='adam',\n",
    "             loss='sparse_categorical_crossentropy',\n",
    "             metrics=['accuracy'])\n",
    "\n",
    "model.fit(x_train, y_train, epochs=14, validation_batch_size=64)"
   ]
  },
  {
   "cell_type": "code",
   "execution_count": 10,
   "id": "0aae7a1b",
   "metadata": {},
   "outputs": [
    {
     "name": "stdout",
     "output_type": "stream",
     "text": [
      "898/898 [==============================] - 25s 27ms/step - loss: 0.1357 - accuracy: 0.9582\n"
     ]
    }
   ],
   "source": [
    "l, a = model.evaluate(x_test, y_test)"
   ]
  },
  {
   "cell_type": "code",
   "execution_count": 11,
   "id": "4d964484",
   "metadata": {},
   "outputs": [
    {
     "name": "stdout",
     "output_type": "stream",
     "text": [
      "0.13567723333835602 0.9582346677780151\n"
     ]
    }
   ],
   "source": [
    "print(l, a)"
   ]
  },
  {
   "cell_type": "code",
   "execution_count": 12,
   "id": "74556492-4b34-45ee-9d5d-b95ca68c7950",
   "metadata": {},
   "outputs": [
    {
     "name": "stdout",
     "output_type": "stream",
     "text": [
      "INFO:tensorflow:Assets written to: DSSL_fer\\assets\n"
     ]
    }
   ],
   "source": [
    "model.save('DSSL_fer')"
   ]
  },
  {
   "cell_type": "code",
   "execution_count": 16,
   "id": "11d7070c-d6c2-4cdf-804b-f03ed1b3f0ee",
   "metadata": {},
   "outputs": [],
   "source": [
    "new_model = tf.keras.models.load_model('DSSL_fer')"
   ]
  },
  {
   "cell_type": "code",
   "execution_count": 17,
   "id": "2f82dc1c-d94c-425b-beca-0c8b7fb08623",
   "metadata": {},
   "outputs": [],
   "source": [
    "pred = new_model.predict(x_test)"
   ]
  },
  {
   "cell_type": "code",
   "execution_count": 18,
   "id": "0647f946-4493-45cb-9b6c-189f638360b2",
   "metadata": {},
   "outputs": [
    {
     "name": "stdout",
     "output_type": "stream",
     "text": [
      "[6.5006912e-03 2.5999546e-04 2.0097166e-02 9.9987328e-01 8.0763912e-01\n",
      " 9.1015643e-01 6.7838866e-01]\n"
     ]
    }
   ],
   "source": [
    "print(pred[0])"
   ]
  },
  {
   "cell_type": "code",
   "execution_count": 28,
   "id": "c69d580b-8959-4645-9c68-3bbd7fb090b7",
   "metadata": {},
   "outputs": [
    {
     "name": "stdout",
     "output_type": "stream",
     "text": [
      "6\n"
     ]
    }
   ],
   "source": [
    "print(np.argmax(pred[26]))"
   ]
  },
  {
   "cell_type": "code",
   "execution_count": 29,
   "id": "c69baabf-d007-4424-86cd-42317370eff6",
   "metadata": {},
   "outputs": [
    {
     "data": {
      "image/png": "[encoded data removed]",
      "text/plain": [
       "<Figure size 432x288 with 1 Axes>"
      ]
     },
     "metadata": {
      "needs_background": "light"
     },
     "output_type": "display_data"
    }
   ],
   "source": [
    "plt.imshow(x_test[26])\n",
    "plt.show()"
   ]
  },
  {
   "cell_type": "code",
   "execution_count": null,
   "id": "6cfd784a-b0d5-4fa8-9d56-8e188b3bd613",
   "metadata": {},
   "outputs": [],
   "source": []
  }
 ],
 "metadata": {
  "kernelspec": {
   "display_name": "Python 3 (ipykernel)",
   "language": "python",
   "name": "python3"
  },
  "language_info": {
   "codemirror_mode": {
    "name": "ipython",
    "version": 3
   },
   "file_extension": ".py",
   "mimetype": "text/x-python",
   "name": "python",
   "nbconvert_exporter": "python",
   "pygments_lexer": "ipython3",
   "version": "3.8.8"
  }
 },
 "nbformat": 4,
 "nbformat_minor": 5
}
